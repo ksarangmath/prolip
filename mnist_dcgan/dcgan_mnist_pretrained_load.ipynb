{
 "cells": [
  {
   "cell_type": "code",
   "execution_count": 2,
   "metadata": {},
   "outputs": [],
   "source": [
    "import sys\n",
    "sys.path.insert(0, \"../pretrained_classifiers\")\n",
    "sys.path.insert(0, \"../\")"
   ]
  },
  {
   "cell_type": "code",
   "execution_count": 3,
   "metadata": {},
   "outputs": [],
   "source": [
    "import os\n",
    "import torch\n",
    "import torchvision\n",
    "import torch.nn as nn\n",
    "from torchvision import transforms\n",
    "from torchvision.utils import save_image\n",
    "from torch.autograd import Variable\n",
    "import torch.nn.functional as F\n",
    "import matplotlib.pyplot as plt\n",
    "import pylab\n",
    "import numpy as np\n",
    "import io\n",
    "import torch.utils.model_zoo as model_zoo\n",
    "import torch.onnx\n",
    "from multiprocessing import Pool\n",
    "from joblib import Parallel, delayed\n",
    "import _thread as thread\n",
    "from numba import njit, prange\n",
    "import time\n",
    "import itertools\n",
    "import torch\n",
    "from torch.autograd import Variable\n",
    "from utee import selector\n",
    "from boxprop import *\n",
    "from boxprop_optimized import *\n",
    "%load_ext autoreload\n",
    "%autoreload 2"
   ]
  },
  {
   "cell_type": "code",
   "execution_count": 8,
   "metadata": {},
   "outputs": [],
   "source": [
    "num_gpu = 1 if torch.cuda.is_available() else 0\n",
    "\n",
    "# load the models\n",
    "from dcgan import Discriminator, Generator\n",
    "\n",
    "D = Discriminator(ngpu=1).eval()\n",
    "G = Generator(ngpu=1).eval()\n",
    "\n",
    "# load weights\n",
    "D.load_state_dict(torch.load('weights/netD_epoch_99.pth', map_location=torch.device('cpu')))\n",
    "G.load_state_dict(torch.load('weights/netG_epoch_99.pth', map_location=torch.device('cpu')))\n",
    "if torch.cuda.is_available():\n",
    "    D = D.cuda()\n",
    "    G = G.cuda()"
   ]
  },
  {
   "cell_type": "markdown",
   "metadata": {},
   "source": [
    "# generate some images"
   ]
  },
  {
   "cell_type": "code",
   "execution_count": 9,
   "metadata": {},
   "outputs": [
    {
     "data": {
      "image/png": "[encoded data removed]",
      "text/plain": [
       "<Figure size 432x288 with 1 Axes>"
      ]
     },
     "metadata": {
      "needs_background": "light"
     },
     "output_type": "display_data"
    }
   ],
   "source": [
    "batch_size = 1\n",
    "latent_size = 100\n",
    "\n",
    "fixed_noise = torch.randn(batch_size, latent_size, 1, 1)\n",
    "if torch.cuda.is_available():\n",
    "    fixed_noise = fixed_noise.cuda()\n",
    "fake_images = G(fixed_noise)\n",
    "\n",
    "\n",
    "\n",
    "# z = torch.randn(batch_size, latent_size).cuda()\n",
    "# z = Variable(z)\n",
    "# fake_images = G(z)\n",
    "\n",
    "fake_images_np = fake_images.cpu().detach().numpy()\n",
    "fi = fake_images_np\n",
    "fake_images_np = fake_images_np.reshape(fake_images_np.shape[0], 28, 28)\n",
    "R, C = 6, 6\n",
    "for i in range(batch_size):\n",
    "    plt.subplot(R, C, i + 1)\n",
    "    plt.imshow(fake_images_np[i], cmap='gray')\n",
    "plt.show()"
   ]
  },
  {
   "cell_type": "markdown",
   "metadata": {},
   "source": [
    "# run discriminator"
   ]
  },
  {
   "cell_type": "code",
   "execution_count": 6,
   "metadata": {},
   "outputs": [
    {
     "name": "stdout",
     "output_type": "stream",
     "text": [
      "tensor([0.0420], grad_fn=<SqueezeBackward1>)\n"
     ]
    }
   ],
   "source": [
    "outputs = D(fake_images)\n",
    "print(outputs)"
   ]
  },
  {
   "cell_type": "code",
   "execution_count": 8,
   "metadata": {},
   "outputs": [
    {
     "name": "stdout",
     "output_type": "stream",
     "text": [
      "0\n",
      "0.1921790010528639\n",
      "1\n",
      "0.349950019037351\n",
      "2\n",
      "0.7444940080167726\n",
      "3\n",
      "1.3275262510869652\n",
      "3\n",
      "0.0011462719412520528\n",
      "4\n"
     ]
    }
   ],
   "source": [
    "#boxprop_optimized for mnist GAN\n",
    "\n"
   ]
  },
  {
   "cell_type": "code",
   "execution_count": 10,
   "metadata": {},
   "outputs": [
    {
     "data": {
      "image/png": "[encoded data removed]",
      "text/plain": [
       "<Figure size 432x288 with 1 Axes>"
      ]
     },
     "metadata": {
      "needs_background": "light"
     },
     "output_type": "display_data"
    },
    {
     "name": "stdout",
     "output_type": "stream",
     "text": [
      "tensor([0.0420], grad_fn=<SqueezeBackward1>)\n"
     ]
    }
   ],
   "source": [
    "fake_images_np = a_o.upper\n",
    "fake_images_np = fake_images_np.reshape(fake_images_np.shape[0], 28, 28)\n",
    "R, C = 6, 6\n",
    "for i in range(batch_size):\n",
    "    plt.subplot(R, C, i + 1)\n",
    "    plt.imshow(fake_images_np[i], cmap='gray')\n",
    "plt.show()\n",
    "print(D(torch.Tensor(a_o.upper)))"
   ]
  },
  {
   "cell_type": "code",
   "execution_count": 5,
   "metadata": {},
   "outputs": [
    {
     "name": "stderr",
     "output_type": "stream",
     "text": [
      "Building and initializing mnist parameters\n",
      "Sequential(\n",
      "  (fc1): Linear(in_features=784, out_features=256, bias=True)\n",
      "  (relu1): ReLU()\n",
      "  (drop1): Dropout(p=0.2, inplace=False)\n",
      "  (fc2): Linear(in_features=256, out_features=256, bias=True)\n",
      "  (relu2): ReLU()\n",
      "  (drop2): Dropout(p=0.2, inplace=False)\n",
      "  (out): Linear(in_features=256, out_features=10, bias=True)\n",
      ")\n"
     ]
    }
   ],
   "source": [
    "model_raw, ds_fetcher, is_imagenet = selector.select('mnist')\n",
    "# ds_val = ds_fetcher(batch_size=10, train=False, val=True)\n",
    "# for idx, (data, target) in enumerate(ds_val):\n",
    "#     data =  Variable(torch.FloatTensor(data))\n",
    "#     output = model_raw(data)\n",
    "#     print(D(data))\n"
   ]
  },
  {
   "cell_type": "code",
   "execution_count": 6,
   "metadata": {},
   "outputs": [
    {
     "data": {
      "text/plain": [
       "MLP(\n",
       "  (model): Sequential(\n",
       "    (fc1): Linear(in_features=784, out_features=256, bias=True)\n",
       "    (relu1): ReLU()\n",
       "    (drop1): Dropout(p=0.2, inplace=False)\n",
       "    (fc2): Linear(in_features=256, out_features=256, bias=True)\n",
       "    (relu2): ReLU()\n",
       "    (drop2): Dropout(p=0.2, inplace=False)\n",
       "    (out): Linear(in_features=256, out_features=10, bias=True)\n",
       "  )\n",
       ")"
      ]
     },
     "execution_count": 6,
     "metadata": {},
     "output_type": "execute_result"
    }
   ],
   "source": [
    "model_raw.eval()"
   ]
  },
  {
   "cell_type": "code",
   "execution_count": 92,
   "metadata": {},
   "outputs": [],
   "source": [
    "torch.manual_seed(0)\n",
    "center = torch.randn(1,100,1,1)"
   ]
  },
  {
   "cell_type": "code",
   "execution_count": 186,
   "metadata": {},
   "outputs": [
    {
     "name": "stdout",
     "output_type": "stream",
     "text": [
      "True 1\n",
      "True 2\n",
      "True 3\n",
      "True 4\n",
      "True 5\n",
      "True 6\n",
      "True 7\n",
      "True 8\n",
      "True 9\n",
      "True 10\n",
      "True 11\n",
      "True 12\n",
      "True 13\n",
      "tensor([[[[ 22.1732,  87.9016,  65.2818,  ...,  69.9947,  48.1911,  22.6203],\n",
      "          [ 69.8355, 273.7919, 212.5612,  ..., 225.5994, 160.8569,  72.1978],\n",
      "          [ 71.2584, 276.8326, 214.6486,  ..., 221.8024, 165.5772,  70.0158],\n",
      "          ...,\n",
      "          [ 73.4504, 254.9062, 223.1740,  ..., 291.0572, 236.8167,  96.5797],\n",
      "          [ 65.2499, 234.9788, 200.7440,  ..., 255.7771, 209.9358,  83.3470],\n",
      "          [ 24.0215,  78.4734,  74.1868,  ...,  91.0343,  80.1353,  30.9065]],\n",
      "\n",
      "         [[ 31.0545, 115.5600,  85.6173,  ...,  99.6764,  58.9167,  35.5789],\n",
      "          [143.8479, 240.7022, 388.4092,  ..., 208.9616, 246.3153,  71.2211],\n",
      "          [ 94.9811, 331.2182, 267.5133,  ..., 289.9214, 186.8287,  97.9906],\n",
      "          ...,\n",
      "          [145.2797, 259.7335, 394.7720,  ..., 321.9141, 352.5579, 112.5001],\n",
      "          [ 82.1302, 252.7834, 230.0679,  ..., 293.4373, 214.7978,  99.4312],\n",
      "          [ 47.1334,  89.1479, 130.2217,  ..., 112.4462, 119.4453,  40.5531]],\n",
      "\n",
      "         [[ 38.9609, 101.1457, 111.0969,  ...,  86.8493,  76.7256,  29.8054],\n",
      "          [ 92.3906, 260.0083, 248.4603,  ..., 230.0085, 163.7013,  76.6533],\n",
      "          [117.2502, 297.3803, 343.9710,  ..., 253.7208, 242.1897,  83.8861],\n",
      "          ...,\n",
      "          [102.6928, 271.1255, 275.2036,  ..., 331.2274, 233.1126, 113.0959],\n",
      "          [ 97.0296, 226.4582, 283.3605,  ..., 250.9162, 277.7694,  81.8983],\n",
      "          [ 37.1982,  90.9738,  95.9249,  ..., 113.0703,  78.6898,  39.4367]],\n",
      "\n",
      "         ...,\n",
      "\n",
      "         [[ 57.3145, 114.6570, 146.4931,  ...,  99.6378,  89.0302,  35.2398],\n",
      "          [107.8485, 319.5059, 299.7577,  ..., 302.6191, 200.7601, 108.0831],\n",
      "          [167.8785, 335.8321, 440.3780,  ..., 299.5425, 269.1265, 100.9759],\n",
      "          ...,\n",
      "          [114.0739, 351.6435, 315.0917,  ..., 450.5459, 287.9245, 162.2364],\n",
      "          [134.4274, 259.8411, 347.4074,  ..., 315.9036, 281.6603, 109.3326],\n",
      "          [ 38.6582, 121.7746, 106.6129,  ..., 155.5686,  98.2124,  56.4825]],\n",
      "\n",
      "         [[ 10.4473,  25.1846,  27.2709,  ...,  20.4784,  18.8124,   7.1814],\n",
      "          [ 25.7614,  54.1471,  78.6252,  ...,  50.3045,  59.6654,  17.5721],\n",
      "          [ 29.8623,  78.9933,  83.7933,  ...,  64.5798,  59.7462,  20.6751],\n",
      "          ...,\n",
      "          [ 25.3509,  55.3742,  79.4835,  ...,  68.2938,  86.3398,  24.0134],\n",
      "          [ 24.7786,  68.5553,  70.0386,  ...,  73.4779,  68.0188,  23.6829],\n",
      "          [  8.3552,  18.7705,  26.1962,  ...,  22.3668,  29.6410,   8.1492]],\n",
      "\n",
      "         [[ 42.2352, 112.7736, 110.7791,  ...,  85.0557,  71.0431,  25.8249],\n",
      "          [ 96.1421, 278.7940, 289.8358,  ..., 222.3007, 221.9069,  71.7898],\n",
      "          [125.5633, 350.8531, 340.3669,  ..., 262.9718, 224.9008,  79.4116],\n",
      "          ...,\n",
      "          [101.0948, 267.3052, 302.2875,  ..., 320.7001, 308.9666, 109.9603],\n",
      "          [100.4056, 295.1768, 273.8073,  ..., 303.0226, 250.7793,  92.2772],\n",
      "          [ 33.7539,  85.2760, 102.0281,  ..., 109.4884, 102.3940,  40.2568]]]])\n",
      "True 14\n",
      "True 15\n",
      "False\n",
      "False\n",
      "True\n",
      "False\n",
      "False\n",
      "True\n",
      "False\n",
      "False\n"
     ]
    }
   ],
   "source": [
    "# center = torch.randn(1,100,1,1)\n",
    "size=0.05\n",
    "upper_bound = center+size\n",
    "lower_bound = center-size\n",
    "a_o = Box_o(upper_bound,lower_bound, False)\n",
    "\n",
    "size=0.001\n",
    "upper_bound = center+size\n",
    "lower_bound = center-size\n",
    "a_oo = Box_o(upper_bound,lower_bound, False)\n",
    "\n",
    "print(False in (a_oo.upper==a_o.upper),1)\n",
    "\n",
    "a_o.convTranspose2d(weight=G.state_dict()['main.0.weight'], c_out=512, kernel_size=4, stride=1, padding=0, output_padding=0)\n",
    "a_oo.convTranspose2d(weight=G.state_dict()['main.0.weight'], c_out=512, kernel_size=4, stride=1, padding=0, output_padding=0)\n",
    "print(False in (a_oo.upper==a_o.upper),2)\n",
    "\n",
    "a_o.batchNorm2d(mean=G.state_dict()['main.1.running_mean'], var=G.state_dict()['main.1.running_var'], eps=1e-05, weight=G.state_dict()['main.1.weight'], bias=G.state_dict()['main.1.bias'])\n",
    "a_oo.batchNorm2d(mean=G.state_dict()['main.1.running_mean'], var=G.state_dict()['main.1.running_var'], eps=1e-05, weight=G.state_dict()['main.1.weight'], bias=G.state_dict()['main.1.bias'])\n",
    "print(False in (a_oo.upper==a_o.upper),3)\n",
    "\n",
    "a_o.relu()\n",
    "a_oo.relu()\n",
    "print(False in (a_oo.upper==a_o.upper),4)\n",
    "\n",
    "a_o.convTranspose2d(weight=G.state_dict()['main.3.weight'], c_out=256, kernel_size=4, stride=2, padding=1, output_padding=0)\n",
    "a_oo.convTranspose2d(weight=G.state_dict()['main.3.weight'], c_out=256, kernel_size=4, stride=2, padding=1, output_padding=0)\n",
    "print(False in (a_oo.upper==a_o.upper),5)\n",
    "\n",
    "a_o.batchNorm2d(mean=G.state_dict()['main.4.running_mean'], var=G.state_dict()['main.4.running_var'], eps=1e-05, weight=G.state_dict()['main.4.weight'], bias=G.state_dict()['main.4.bias'])\n",
    "a_oo.batchNorm2d(mean=G.state_dict()['main.4.running_mean'], var=G.state_dict()['main.4.running_var'], eps=1e-05, weight=G.state_dict()['main.4.weight'], bias=G.state_dict()['main.4.bias'])\n",
    "print(False in (a_oo.upper==a_o.upper),6)\n",
    "\n",
    "a_o.relu()\n",
    "a_oo.relu()\n",
    "print(False in (a_oo.upper==a_o.upper),7)\n",
    "\n",
    "a_o.convTranspose2d(weight=G.state_dict()['main.6.weight'], c_out=128, kernel_size=4, stride=2, padding=1, output_padding=0)\n",
    "a_oo.convTranspose2d(weight=G.state_dict()['main.6.weight'], c_out=128, kernel_size=4, stride=2, padding=1, output_padding=0)\n",
    "print(False in (a_oo.upper==a_o.upper),8)\n",
    "\n",
    "a_o.batchNorm2d(mean=G.state_dict()['main.7.running_mean'], var=G.state_dict()['main.7.running_var'], eps=1e-05, weight=G.state_dict()['main.7.weight'], bias=G.state_dict()['main.7.bias'])\n",
    "a_oo.batchNorm2d(mean=G.state_dict()['main.7.running_mean'], var=G.state_dict()['main.7.running_var'], eps=1e-05, weight=G.state_dict()['main.7.weight'], bias=G.state_dict()['main.7.bias'])\n",
    "print(False in (a_oo.upper==a_o.upper),9)\n",
    "\n",
    "a_o.relu()\n",
    "a_oo.relu()\n",
    "print(False in (a_oo.upper==a_o.upper),10)\n",
    "\n",
    "a_o.convTranspose2d(weight=G.state_dict()['main.9.weight'], c_out=64, kernel_size=4, stride=2, padding=1, output_padding=0)\n",
    "a_oo.convTranspose2d(weight=G.state_dict()['main.9.weight'], c_out=64, kernel_size=4, stride=2, padding=1, output_padding=0)\n",
    "print(False in (a_oo.upper==a_o.upper),11)\n",
    "\n",
    "a_o.batchNorm2d(mean=G.state_dict()['main.10.running_mean'], var=G.state_dict()['main.10.running_var'], eps=1e-05, weight=G.state_dict()['main.10.weight'], bias=G.state_dict()['main.10.bias'])\n",
    "a_oo.batchNorm2d(mean=G.state_dict()['main.10.running_mean'], var=G.state_dict()['main.10.running_var'], eps=1e-05, weight=G.state_dict()['main.10.weight'], bias=G.state_dict()['main.10.bias'])\n",
    "print(False in (a_oo.upper==a_o.upper),12)\n",
    "\n",
    "a_o.relu()\n",
    "a_oo.relu()\n",
    "print(False in (a_oo.upper==a_o.upper),13)\n",
    "print(a_o.upper)\n",
    "\n",
    "\n",
    "a_o.convTranspose2d(weight=G.state_dict()['main.12.weight'], c_out=1, kernel_size=1, stride=1, padding=2, output_padding=0)\n",
    "a_oo.convTranspose2d(weight=G.state_dict()['main.12.weight'], c_out=1, kernel_size=1, stride=1, padding=2, output_padding=0)\n",
    "print(False in (a_oo.upper==a_o.upper),14)\n",
    "# print(a_o.lower)\n",
    "atan = a_o.tanh()\n",
    "aotan = a_oo.tanh()\n",
    "print(False in (a_oo.upper==a_o.upper),15)\n",
    "\n",
    "\n",
    "C = model_raw\n",
    "b1 = Box_o(a_oo.upper, a_oo.lower, True)\n",
    "b2 = Box_o(a_o.upper, a_o.lower, True)\n",
    "print(False in (b1.lip.upper==b2.lip.upper))\n",
    "b1.linear(C.state_dict()['model.fc1.weight'], C.state_dict()['model.fc1.bias'])\n",
    "b2.linear(C.state_dict()['model.fc1.weight'], C.state_dict()['model.fc1.bias'])\n",
    "print(False in (b1.lip.upper==b2.lip.upper))\n",
    "print(b1.relu()==b2.relu())\n",
    "print(False in (b1.lip.upper==b2.lip.upper))\n",
    "b1.linear(C.state_dict()['model.fc2.weight'], C.state_dict()['model.fc2.bias'])\n",
    "b2.linear(C.state_dict()['model.fc2.weight'], C.state_dict()['model.fc2.bias'])\n",
    "print(False in (b1.lip.upper==b2.lip.upper))\n",
    "print(b1.relu()==b2.relu())\n",
    "\n",
    "print(False in (b1.lip.upper==b2.lip.upper))\n",
    "b1.linear(C.state_dict()['model.out.weight'], C.state_dict()['model.out.bias'])\n",
    "b2.linear(C.state_dict()['model.out.weight'], C.state_dict()['model.out.bias'])\n",
    "print(False in (b1.lip.upper==b2.lip.upper))\n",
    "\n",
    "\n",
    "\n",
    "\n"
   ]
  },
  {
   "cell_type": "code",
   "execution_count": 180,
   "metadata": {},
   "outputs": [
    {
     "data": {
      "image/png": "[encoded data removed]",
      "text/plain": [
       "<Figure size 432x288 with 1 Axes>"
      ]
     },
     "metadata": {
      "needs_background": "light"
     },
     "output_type": "display_data"
    },
    {
     "name": "stdout",
     "output_type": "stream",
     "text": [
      "tensor([0.0874], grad_fn=<SqueezeBackward1>)\n"
     ]
    }
   ],
   "source": [
    "fake_images_np = a_oo.upper\n",
    "fake_images_np = fake_images_np.reshape(fake_images_np.shape[0], 28, 28)\n",
    "R, C = 6, 6\n",
    "for i in range(batch_size):\n",
    "    plt.subplot(R, C, i + 1)\n",
    "    plt.imshow(fake_images_np[i], cmap='gray')\n",
    "plt.show()\n",
    "print(D(torch.Tensor(a_o.upper)))"
   ]
  },
  {
   "cell_type": "code",
   "execution_count": 181,
   "metadata": {},
   "outputs": [
    {
     "data": {
      "text/plain": [
       "115.42352"
      ]
     },
     "execution_count": 181,
     "metadata": {},
     "output_type": "execute_result"
    }
   ],
   "source": [
    "b1.getLip()"
   ]
  },
  {
   "cell_type": "code",
   "execution_count": null,
   "metadata": {},
   "outputs": [],
   "source": [
    "115.42352"
   ]
  },
  {
   "cell_type": "code",
   "execution_count": 59,
   "metadata": {},
   "outputs": [],
   "source": [
    "import time, cProfile\n",
    "torch.manual_seed(0)\n",
    "center = torch.randn(1,100,1,1)"
   ]
  },
  {
   "cell_type": "code",
   "execution_count": 99,
   "metadata": {},
   "outputs": [
    {
     "name": "stdout",
     "output_type": "stream",
     "text": [
      "         98341 function calls (98339 primitive calls) in 0.835 seconds\n",
      "\n",
      "   Ordered by: standard name\n",
      "\n",
      "   ncalls  tottime  percall  cumtime  percall filename:lineno(function)\n",
      "        2    0.000    0.000    0.000    0.000 <__array_function__ internals>:2(prod)\n",
      "        2    0.000    0.000    0.000    0.000 <__array_function__ internals>:2(product)\n",
      "        1    0.000    0.000    0.835    0.835 <string>:1(<module>)\n",
      "        1    0.474    0.474    0.835    0.835 boxprop_optimized.py:53(relu)\n",
      "        4    0.000    0.000    0.000    0.000 fromnumeric.py:2838(_prod_dispatcher)\n",
      "        2    0.000    0.000    0.000    0.000 fromnumeric.py:2843(prod)\n",
      "        2    0.000    0.000    0.000    0.000 fromnumeric.py:3602(product)\n",
      "        2    0.000    0.000    0.000    0.000 fromnumeric.py:73(_wrapreduction)\n",
      "        2    0.000    0.000    0.000    0.000 fromnumeric.py:74(<dictcomp>)\n",
      "    65536    0.357    0.000    0.357    0.000 tensor.py:25(wrapped)\n",
      "        1    0.000    0.000    0.000    0.000 tensor.py:443(__len__)\n",
      "        1    0.000    0.000    0.835    0.835 {built-in method builtins.exec}\n",
      "        2    0.000    0.000    0.000    0.000 {built-in method builtins.getattr}\n",
      "        1    0.000    0.000    0.000    0.000 {built-in method builtins.len}\n",
      "      4/2    0.000    0.000    0.000    0.000 {built-in method numpy.core._multiarray_umath.implement_array_function}\n",
      "    32768    0.004    0.000    0.004    0.000 {method 'add' of 'set' objects}\n",
      "        1    0.000    0.000    0.000    0.000 {method 'dim' of 'torch._C._TensorBase' objects}\n",
      "        1    0.000    0.000    0.000    0.000 {method 'disable' of '_lsprof.Profiler' objects}\n",
      "        2    0.000    0.000    0.000    0.000 {method 'items' of 'dict' objects}\n",
      "        2    0.000    0.000    0.000    0.000 {method 'reduce' of 'numpy.ufunc' objects}\n",
      "        4    0.000    0.000    0.000    0.000 {method 'reshape' of 'torch._C._TensorBase' objects}\n",
      "\n",
      "\n",
      "65536\n",
      "3.202491655945778\n",
      "         57187 function calls (57185 primitive calls) in 0.659 seconds\n",
      "\n",
      "   Ordered by: standard name\n",
      "\n",
      "   ncalls  tottime  percall  cumtime  percall filename:lineno(function)\n",
      "        2    0.000    0.000    0.000    0.000 <__array_function__ internals>:2(prod)\n",
      "        2    0.000    0.000    0.000    0.000 <__array_function__ internals>:2(product)\n",
      "        1    0.000    0.000    0.659    0.659 <string>:1(<module>)\n",
      "        1    0.415    0.415    0.658    0.658 boxprop_optimized.py:53(relu)\n",
      "        4    0.000    0.000    0.000    0.000 fromnumeric.py:2838(_prod_dispatcher)\n",
      "        2    0.000    0.000    0.000    0.000 fromnumeric.py:2843(prod)\n",
      "        2    0.000    0.000    0.000    0.000 fromnumeric.py:3602(product)\n",
      "        2    0.000    0.000    0.000    0.000 fromnumeric.py:73(_wrapreduction)\n",
      "        2    0.000    0.000    0.000    0.000 fromnumeric.py:74(<dictcomp>)\n",
      "    44959    0.242    0.000    0.242    0.000 tensor.py:25(wrapped)\n",
      "        1    0.000    0.000    0.000    0.000 tensor.py:443(__len__)\n",
      "        1    0.000    0.000    0.659    0.659 {built-in method builtins.exec}\n",
      "        2    0.000    0.000    0.000    0.000 {built-in method builtins.getattr}\n",
      "        1    0.000    0.000    0.000    0.000 {built-in method builtins.len}\n",
      "      4/2    0.000    0.000    0.000    0.000 {built-in method numpy.core._multiarray_umath.implement_array_function}\n",
      "    12191    0.001    0.000    0.001    0.000 {method 'add' of 'set' objects}\n",
      "        1    0.000    0.000    0.000    0.000 {method 'dim' of 'torch._C._TensorBase' objects}\n",
      "        1    0.000    0.000    0.000    0.000 {method 'disable' of '_lsprof.Profiler' objects}\n",
      "        2    0.000    0.000    0.000    0.000 {method 'items' of 'dict' objects}\n",
      "        2    0.000    0.000    0.000    0.000 {method 'reduce' of 'numpy.ufunc' objects}\n",
      "        4    0.000    0.000    0.000    0.000 {method 'reshape' of 'torch._C._TensorBase' objects}\n",
      "\n",
      "\n",
      "1627\n",
      "2.5323768919333816\n"
     ]
    }
   ],
   "source": [
    "C = model_raw\n",
    "\n",
    "size=0.1\n",
    "upper_bound = center+size\n",
    "lower_bound = center-size\n",
    "tic = time.perf_counter()\n",
    "\n",
    "a_o = Box_o(upper_bound,lower_bound, False)\n",
    "\n",
    "a_o.convTranspose2d(weight=G.state_dict()['main.0.weight'], c_out=512, kernel_size=4, stride=1, padding=0, output_padding=0)\n",
    "a_o.batchNorm2d(mean=G.state_dict()['main.1.running_mean'], var=G.state_dict()['main.1.running_var'], eps=1e-05, weight=G.state_dict()['main.1.weight'], bias=G.state_dict()['main.1.bias'])\n",
    "a_o.relu()\n",
    "a_o.convTranspose2d(weight=G.state_dict()['main.3.weight'], c_out=256, kernel_size=4, stride=2, padding=1, output_padding=0)\n",
    "a_o.batchNorm2d(mean=G.state_dict()['main.4.running_mean'], var=G.state_dict()['main.4.running_var'], eps=1e-05, weight=G.state_dict()['main.4.weight'], bias=G.state_dict()['main.4.bias'])\n",
    "a_o.relu()\n",
    "a_o.convTranspose2d(weight=G.state_dict()['main.6.weight'], c_out=128, kernel_size=4, stride=2, padding=1, output_padding=0)\n",
    "a_o.batchNorm2d(mean=G.state_dict()['main.7.running_mean'], var=G.state_dict()['main.7.running_var'], eps=1e-05, weight=G.state_dict()['main.7.weight'], bias=G.state_dict()['main.7.bias'])\n",
    "cProfile.run('a_o.relu()')\n",
    "a_o.convTranspose2d(weight=G.state_dict()['main.9.weight'], c_out=64, kernel_size=4, stride=2, padding=1, output_padding=0)\n",
    "a_o.batchNorm2d(mean=G.state_dict()['main.10.running_mean'], var=G.state_dict()['main.10.running_var'], eps=1e-05, weight=G.state_dict()['main.10.weight'], bias=G.state_dict()['main.10.bias'])\n",
    "print(len(a_o.relu()))\n",
    "a_o.convTranspose2d(weight=G.state_dict()['main.12.weight'], c_out=1, kernel_size=1, stride=1, padding=2, output_padding=0)\n",
    "a_o.tanh()\n",
    "\n",
    "# b1 = Box_o(a_o.upper, a_o.lower, True)\n",
    "# b1.linear(C.state_dict()['model.fc1.weight'], C.state_dict()['model.fc1.bias'])\n",
    "# b1.relu()\n",
    "# b1.linear(C.state_dict()['model.fc2.weight'], C.state_dict()['model.fc2.bias'])\n",
    "# b1.relu()\n",
    "# b1.linear(C.state_dict()['model.out.weight'], C.state_dict()['model.out.bias'])\n",
    "\n",
    "print(time.perf_counter()-tic)\n",
    "\n",
    "\n",
    "\n",
    "size=0.00001\n",
    "upper_bound = center+size\n",
    "lower_bound = center-size\n",
    "\n",
    "tic = time.perf_counter()\n",
    "\n",
    "a_oo = Box_o(upper_bound,lower_bound, False)\n",
    "\n",
    "a_oo.convTranspose2d(weight=G.state_dict()['main.0.weight'], c_out=512, kernel_size=4, stride=1, padding=0, output_padding=0)\n",
    "a_oo.batchNorm2d(mean=G.state_dict()['main.1.running_mean'], var=G.state_dict()['main.1.running_var'], eps=1e-05, weight=G.state_dict()['main.1.weight'], bias=G.state_dict()['main.1.bias'])\n",
    "a_oo.relu()\n",
    "a_oo.convTranspose2d(weight=G.state_dict()['main.3.weight'], c_out=256, kernel_size=4, stride=2, padding=1, output_padding=0)\n",
    "a_oo.batchNorm2d(mean=G.state_dict()['main.4.running_mean'], var=G.state_dict()['main.4.running_var'], eps=1e-05, weight=G.state_dict()['main.4.weight'], bias=G.state_dict()['main.4.bias'])\n",
    "a_oo.relu()\n",
    "a_oo.convTranspose2d(weight=G.state_dict()['main.6.weight'], c_out=128, kernel_size=4, stride=2, padding=1, output_padding=0)\n",
    "a_oo.batchNorm2d(mean=G.state_dict()['main.7.running_mean'], var=G.state_dict()['main.7.running_var'], eps=1e-05, weight=G.state_dict()['main.7.weight'], bias=G.state_dict()['main.7.bias'])\n",
    "cProfile.run('a_oo.relu()')\n",
    "a_oo.convTranspose2d(weight=G.state_dict()['main.9.weight'], c_out=64, kernel_size=4, stride=2, padding=1, output_padding=0)\n",
    "a_oo.batchNorm2d(mean=G.state_dict()['main.10.running_mean'], var=G.state_dict()['main.10.running_var'], eps=1e-05, weight=G.state_dict()['main.10.weight'], bias=G.state_dict()['main.10.bias'])\n",
    "print(len(a_oo.relu()))\n",
    "a_oo.convTranspose2d(weight=G.state_dict()['main.12.weight'], c_out=1, kernel_size=1, stride=1, padding=2, output_padding=0)\n",
    "a_oo.tanh()\n",
    "\n",
    "# b2 = Box_o(a_oo.upper, a_oo.lower, True)\n",
    "# b2.linear(C.state_dict()['model.fc1.weight'], C.state_dict()['model.fc1.bias'])\n",
    "# b2.relu()\n",
    "# b2.linear(C.state_dict()['model.fc2.weight'], C.state_dict()['model.fc2.bias'])\n",
    "# b2.relu()\n",
    "# b2.linear(C.state_dict()['model.out.weight'], C.state_dict()['model.out.bias'])\n",
    "\n",
    "print(time.perf_counter()-tic)"
   ]
  },
  {
   "cell_type": "code",
   "execution_count": 12,
   "metadata": {},
   "outputs": [
    {
     "name": "stdout",
     "output_type": "stream",
     "text": [
      "torch.Size([8192])\n",
      "torch.Size([16384])\n",
      "torch.Size([32768])\n",
      "         98376 function calls (98374 primitive calls) in 0.820 seconds\n",
      "\n",
      "   Ordered by: standard name\n",
      "\n",
      "   ncalls  tottime  percall  cumtime  percall filename:lineno(function)\n",
      "        2    0.000    0.000    0.000    0.000 <__array_function__ internals>:2(prod)\n",
      "        2    0.000    0.000    0.000    0.000 <__array_function__ internals>:2(product)\n",
      "        1    0.000    0.000    0.820    0.820 <string>:1(<module>)\n",
      "        1    0.460    0.460    0.820    0.820 boxprop_optimized.py:53(relu)\n",
      "        4    0.000    0.000    0.000    0.000 fromnumeric.py:2838(_prod_dispatcher)\n",
      "        2    0.000    0.000    0.000    0.000 fromnumeric.py:2843(prod)\n",
      "        2    0.000    0.000    0.000    0.000 fromnumeric.py:3602(product)\n",
      "        2    0.000    0.000    0.000    0.000 fromnumeric.py:73(_wrapreduction)\n",
      "        2    0.000    0.000    0.000    0.000 fromnumeric.py:74(<dictcomp>)\n",
      "        3    0.000    0.000    0.000    0.000 iostream.py:197(schedule)\n",
      "        2    0.000    0.000    0.000    0.000 iostream.py:309(_is_master_process)\n",
      "        2    0.000    0.000    0.000    0.000 iostream.py:322(_schedule_flush)\n",
      "        2    0.000    0.000    0.000    0.000 iostream.py:384(write)\n",
      "        3    0.000    0.000    0.000    0.000 iostream.py:93(_event_pipe)\n",
      "        3    0.000    0.000    0.000    0.000 socket.py:342(send)\n",
      "    65536    0.355    0.000    0.355    0.000 tensor.py:25(wrapped)\n",
      "        1    0.000    0.000    0.000    0.000 tensor.py:443(__len__)\n",
      "        3    0.000    0.000    0.000    0.000 threading.py:1062(_wait_for_tstate_lock)\n",
      "        3    0.000    0.000    0.000    0.000 threading.py:1104(is_alive)\n",
      "        3    0.000    0.000    0.000    0.000 threading.py:506(is_set)\n",
      "        1    0.000    0.000    0.820    0.820 {built-in method builtins.exec}\n",
      "        2    0.000    0.000    0.000    0.000 {built-in method builtins.getattr}\n",
      "        2    0.000    0.000    0.000    0.000 {built-in method builtins.isinstance}\n",
      "        1    0.000    0.000    0.000    0.000 {built-in method builtins.len}\n",
      "        1    0.000    0.000    0.000    0.000 {built-in method builtins.print}\n",
      "      4/2    0.000    0.000    0.000    0.000 {built-in method numpy.core._multiarray_umath.implement_array_function}\n",
      "        2    0.000    0.000    0.000    0.000 {built-in method posix.getpid}\n",
      "        3    0.000    0.000    0.000    0.000 {method 'acquire' of '_thread.lock' objects}\n",
      "    32768    0.005    0.000    0.005    0.000 {method 'add' of 'set' objects}\n",
      "        3    0.000    0.000    0.000    0.000 {method 'append' of 'collections.deque' objects}\n",
      "        1    0.000    0.000    0.000    0.000 {method 'dim' of 'torch._C._TensorBase' objects}\n",
      "        1    0.000    0.000    0.000    0.000 {method 'disable' of '_lsprof.Profiler' objects}\n",
      "        2    0.000    0.000    0.000    0.000 {method 'items' of 'dict' objects}\n",
      "        2    0.000    0.000    0.000    0.000 {method 'reduce' of 'numpy.ufunc' objects}\n",
      "        4    0.000    0.000    0.000    0.000 {method 'reshape' of 'torch._C._TensorBase' objects}\n",
      "\n",
      "\n",
      "torch.Size([65536])\n",
      "65536\n",
      "3.29635828291066\n",
      "torch.Size([8192])\n",
      "torch.Size([16384])\n",
      "torch.Size([32768])\n",
      "         67300 function calls (67298 primitive calls) in 0.724 seconds\n",
      "\n",
      "   Ordered by: standard name\n",
      "\n",
      "   ncalls  tottime  percall  cumtime  percall filename:lineno(function)\n",
      "        2    0.000    0.000    0.000    0.000 <__array_function__ internals>:2(prod)\n",
      "        2    0.000    0.000    0.000    0.000 <__array_function__ internals>:2(product)\n",
      "        1    0.001    0.001    0.724    0.724 <string>:1(<module>)\n",
      "        1    0.443    0.443    0.723    0.723 boxprop_optimized.py:53(relu)\n",
      "        4    0.000    0.000    0.000    0.000 fromnumeric.py:2838(_prod_dispatcher)\n",
      "        2    0.000    0.000    0.000    0.000 fromnumeric.py:2843(prod)\n",
      "        2    0.000    0.000    0.000    0.000 fromnumeric.py:3602(product)\n",
      "        2    0.000    0.000    0.000    0.000 fromnumeric.py:73(_wrapreduction)\n",
      "        2    0.000    0.000    0.000    0.000 fromnumeric.py:74(<dictcomp>)\n",
      "        3    0.000    0.000    0.000    0.000 iostream.py:197(schedule)\n",
      "        2    0.000    0.000    0.000    0.000 iostream.py:309(_is_master_process)\n",
      "        2    0.000    0.000    0.000    0.000 iostream.py:322(_schedule_flush)\n",
      "        2    0.000    0.000    0.000    0.000 iostream.py:384(write)\n",
      "        3    0.000    0.000    0.000    0.000 iostream.py:93(_event_pipe)\n",
      "        3    0.000    0.000    0.000    0.000 socket.py:342(send)\n",
      "    49998    0.277    0.000    0.277    0.000 tensor.py:25(wrapped)\n",
      "        1    0.000    0.000    0.000    0.000 tensor.py:443(__len__)\n",
      "        3    0.000    0.000    0.000    0.000 threading.py:1062(_wait_for_tstate_lock)\n",
      "        3    0.000    0.000    0.000    0.000 threading.py:1104(is_alive)\n",
      "        3    0.000    0.000    0.000    0.000 threading.py:506(is_set)\n",
      "        1    0.000    0.000    0.724    0.724 {built-in method builtins.exec}\n",
      "        2    0.000    0.000    0.000    0.000 {built-in method builtins.getattr}\n",
      "        2    0.000    0.000    0.000    0.000 {built-in method builtins.isinstance}\n",
      "        1    0.000    0.000    0.000    0.000 {built-in method builtins.len}\n",
      "        1    0.000    0.000    0.000    0.000 {built-in method builtins.print}\n",
      "      4/2    0.000    0.000    0.000    0.000 {built-in method numpy.core._multiarray_umath.implement_array_function}\n",
      "        2    0.000    0.000    0.000    0.000 {built-in method posix.getpid}\n",
      "        3    0.000    0.000    0.000    0.000 {method 'acquire' of '_thread.lock' objects}\n",
      "    17230    0.003    0.000    0.003    0.000 {method 'add' of 'set' objects}\n",
      "        3    0.000    0.000    0.000    0.000 {method 'append' of 'collections.deque' objects}\n",
      "        1    0.000    0.000    0.000    0.000 {method 'dim' of 'torch._C._TensorBase' objects}\n",
      "        1    0.000    0.000    0.000    0.000 {method 'disable' of '_lsprof.Profiler' objects}\n",
      "        2    0.000    0.000    0.000    0.000 {method 'items' of 'dict' objects}\n",
      "        2    0.000    0.000    0.000    0.000 {method 'reduce' of 'numpy.ufunc' objects}\n",
      "        4    0.000    0.000    0.000    0.000 {method 'reshape' of 'torch._C._TensorBase' objects}\n",
      "\n",
      "\n",
      "torch.Size([65536])\n",
      "61220\n",
      "2.9144538369728252\n"
     ]
    }
   ],
   "source": [
    "import time, cProfile\n",
    "torch.manual_seed(0)\n",
    "center = torch.randn(1,100,1,1)\n",
    "\n",
    "C = model_raw\n",
    "\n",
    "size=0.1\n",
    "upper_bound = center+size\n",
    "lower_bound = center-size\n",
    "tic = time.perf_counter()\n",
    "\n",
    "a_o = Box_o(upper_bound,lower_bound, False)\n",
    "\n",
    "a_o.convTranspose2d(weight=G.state_dict()['main.0.weight'], c_out=512, kernel_size=4, stride=1, padding=0, output_padding=0)\n",
    "a_o.batchNorm2d(mean=G.state_dict()['main.1.running_mean'], var=G.state_dict()['main.1.running_var'], eps=1e-05, weight=G.state_dict()['main.1.weight'], bias=G.state_dict()['main.1.bias'])\n",
    "a_o.relu()\n",
    "a_o.convTranspose2d(weight=G.state_dict()['main.3.weight'], c_out=256, kernel_size=4, stride=2, padding=1, output_padding=0)\n",
    "a_o.batchNorm2d(mean=G.state_dict()['main.4.running_mean'], var=G.state_dict()['main.4.running_var'], eps=1e-05, weight=G.state_dict()['main.4.weight'], bias=G.state_dict()['main.4.bias'])\n",
    "a_o.relu()\n",
    "a_o.convTranspose2d(weight=G.state_dict()['main.6.weight'], c_out=128, kernel_size=4, stride=2, padding=1, output_padding=0)\n",
    "a_o.batchNorm2d(mean=G.state_dict()['main.7.running_mean'], var=G.state_dict()['main.7.running_var'], eps=1e-05, weight=G.state_dict()['main.7.weight'], bias=G.state_dict()['main.7.bias'])\n",
    "cProfile.run('a_o.relu()')\n",
    "a_o.convTranspose2d(weight=G.state_dict()['main.9.weight'], c_out=64, kernel_size=4, stride=2, padding=1, output_padding=0)\n",
    "a_o.batchNorm2d(mean=G.state_dict()['main.10.running_mean'], var=G.state_dict()['main.10.running_var'], eps=1e-05, weight=G.state_dict()['main.10.weight'], bias=G.state_dict()['main.10.bias'])\n",
    "print(len(a_o.relu()))\n",
    "a_o.convTranspose2d(weight=G.state_dict()['main.12.weight'], c_out=1, kernel_size=1, stride=1, padding=2, output_padding=0)\n",
    "a_o.tanh()\n",
    "\n",
    "# b1 = Box_o(a_o.upper, a_o.lower, True)\n",
    "# b1.linear(C.state_dict()['model.fc1.weight'], C.state_dict()['model.fc1.bias'])\n",
    "# b1.relu()\n",
    "# b1.linear(C.state_dict()['model.fc2.weight'], C.state_dict()['model.fc2.bias'])\n",
    "# b1.relu()\n",
    "# b1.linear(C.state_dict()['model.out.weight'], C.state_dict()['model.out.bias'])\n",
    "\n",
    "print(time.perf_counter()-tic)\n",
    "\n",
    "\n",
    "\n",
    "size=0.001\n",
    "upper_bound = center+size\n",
    "lower_bound = center-size\n",
    "\n",
    "tic = time.perf_counter()\n",
    "\n",
    "a_oo = Box_o(upper_bound,lower_bound, False)\n",
    "\n",
    "a_oo.convTranspose2d(weight=G.state_dict()['main.0.weight'], c_out=512, kernel_size=4, stride=1, padding=0, output_padding=0)\n",
    "a_oo.batchNorm2d(mean=G.state_dict()['main.1.running_mean'], var=G.state_dict()['main.1.running_var'], eps=1e-05, weight=G.state_dict()['main.1.weight'], bias=G.state_dict()['main.1.bias'])\n",
    "a_oo.relu()\n",
    "a_oo.convTranspose2d(weight=G.state_dict()['main.3.weight'], c_out=256, kernel_size=4, stride=2, padding=1, output_padding=0)\n",
    "a_oo.batchNorm2d(mean=G.state_dict()['main.4.running_mean'], var=G.state_dict()['main.4.running_var'], eps=1e-05, weight=G.state_dict()['main.4.weight'], bias=G.state_dict()['main.4.bias'])\n",
    "a_oo.relu()\n",
    "a_oo.convTranspose2d(weight=G.state_dict()['main.6.weight'], c_out=128, kernel_size=4, stride=2, padding=1, output_padding=0)\n",
    "a_oo.batchNorm2d(mean=G.state_dict()['main.7.running_mean'], var=G.state_dict()['main.7.running_var'], eps=1e-05, weight=G.state_dict()['main.7.weight'], bias=G.state_dict()['main.7.bias'])\n",
    "cProfile.run('a_oo.relu()')\n",
    "a_oo.convTranspose2d(weight=G.state_dict()['main.9.weight'], c_out=64, kernel_size=4, stride=2, padding=1, output_padding=0)\n",
    "a_oo.batchNorm2d(mean=G.state_dict()['main.10.running_mean'], var=G.state_dict()['main.10.running_var'], eps=1e-05, weight=G.state_dict()['main.10.weight'], bias=G.state_dict()['main.10.bias'])\n",
    "print(len(a_oo.relu()))\n",
    "a_oo.convTranspose2d(weight=G.state_dict()['main.12.weight'], c_out=1, kernel_size=1, stride=1, padding=2, output_padding=0)\n",
    "a_oo.tanh()\n",
    "\n",
    "# b2 = Box_o(a_oo.upper, a_oo.lower, True)\n",
    "# b2.linear(C.state_dict()['model.fc1.weight'], C.state_dict()['model.fc1.bias'])\n",
    "# b2.relu()\n",
    "# b2.linear(C.state_dict()['model.fc2.weight'], C.state_dict()['model.fc2.bias'])\n",
    "# b2.relu()\n",
    "# b2.linear(C.state_dict()['model.out.weight'], C.state_dict()['model.out.bias'])\n",
    "\n",
    "print(time.perf_counter()-tic)"
   ]
  },
  {
   "cell_type": "code",
   "execution_count": null,
   "metadata": {},
   "outputs": [],
   "source": []
  },
  {
   "cell_type": "code",
   "execution_count": null,
   "metadata": {},
   "outputs": [],
   "source": []
  }
 ],
 "metadata": {
  "kernelspec": {
   "display_name": "Python 3",
   "language": "python",
   "name": "python3"
  },
  "language_info": {
   "codemirror_mode": {
    "name": "ipython",
    "version": 3
   },
   "file_extension": ".py",
   "mimetype": "text/x-python",
   "name": "python",
   "nbconvert_exporter": "python",
   "pygments_lexer": "ipython3",
   "version": "3.6.10"
  }
 },
 "nbformat": 4,
 "nbformat_minor": 2
}
